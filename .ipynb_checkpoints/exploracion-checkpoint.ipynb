{
 "cells": [
  {
   "cell_type": "code",
   "execution_count": 38,
   "metadata": {},
   "outputs": [],
   "source": [
    "import pandas as pd\n",
    "import seaborn as sns\n",
    "import matplotlib.pyplot as plt"
   ]
  },
  {
   "cell_type": "code",
   "execution_count": 35,
   "metadata": {},
   "outputs": [],
   "source": [
    "algo = pd.read_csv('serie_tiempo_turistas_brasil (1).csv',  encoding='latin-1', sep = ';', decimal = ',')[['año', 'mes', 'Total', 'Brasil', 'Chile']]"
   ]
  },
  {
   "cell_type": "code",
   "execution_count": 40,
   "metadata": {},
   "outputs": [
    {
     "data": {
      "text/html": [
       "<div>\n",
       "<style scoped>\n",
       "    .dataframe tbody tr th:only-of-type {\n",
       "        vertical-align: middle;\n",
       "    }\n",
       "\n",
       "    .dataframe tbody tr th {\n",
       "        vertical-align: top;\n",
       "    }\n",
       "\n",
       "    .dataframe thead th {\n",
       "        text-align: right;\n",
       "    }\n",
       "</style>\n",
       "<table border=\"1\" class=\"dataframe\">\n",
       "  <thead>\n",
       "    <tr style=\"text-align: right;\">\n",
       "      <th></th>\n",
       "      <th>año</th>\n",
       "      <th>mes</th>\n",
       "      <th>Total</th>\n",
       "      <th>Brasil</th>\n",
       "      <th>Chile</th>\n",
       "    </tr>\n",
       "  </thead>\n",
       "  <tbody>\n",
       "    <tr>\n",
       "      <th>0</th>\n",
       "      <td>2010</td>\n",
       "      <td>Enero</td>\n",
       "      <td>269762.3041</td>\n",
       "      <td>72669.22654</td>\n",
       "      <td>14726.65705</td>\n",
       "    </tr>\n",
       "    <tr>\n",
       "      <th>1</th>\n",
       "      <td>2010</td>\n",
       "      <td>Febrero</td>\n",
       "      <td>198385.5165</td>\n",
       "      <td>51701.83300</td>\n",
       "      <td>18448.04946</td>\n",
       "    </tr>\n",
       "    <tr>\n",
       "      <th>2</th>\n",
       "      <td>2010</td>\n",
       "      <td>Marzo</td>\n",
       "      <td>212206.1794</td>\n",
       "      <td>45960.94046</td>\n",
       "      <td>13794.29349</td>\n",
       "    </tr>\n",
       "    <tr>\n",
       "      <th>3</th>\n",
       "      <td>2010</td>\n",
       "      <td>Abril</td>\n",
       "      <td>216812.5068</td>\n",
       "      <td>61494.83166</td>\n",
       "      <td>19320.48258</td>\n",
       "    </tr>\n",
       "    <tr>\n",
       "      <th>4</th>\n",
       "      <td>2010</td>\n",
       "      <td>Mayo</td>\n",
       "      <td>201169.6075</td>\n",
       "      <td>59239.78940</td>\n",
       "      <td>25898.00312</td>\n",
       "    </tr>\n",
       "    <tr>\n",
       "      <th>...</th>\n",
       "      <td>...</td>\n",
       "      <td>...</td>\n",
       "      <td>...</td>\n",
       "      <td>...</td>\n",
       "      <td>...</td>\n",
       "    </tr>\n",
       "    <tr>\n",
       "      <th>121</th>\n",
       "      <td>2020</td>\n",
       "      <td>Febrero</td>\n",
       "      <td>76215.0000</td>\n",
       "      <td>44684.00000</td>\n",
       "      <td>31531.00000</td>\n",
       "    </tr>\n",
       "    <tr>\n",
       "      <th>122</th>\n",
       "      <td>2020</td>\n",
       "      <td>Marzo</td>\n",
       "      <td>110163.0000</td>\n",
       "      <td>23479.00000</td>\n",
       "      <td>10961.00000</td>\n",
       "    </tr>\n",
       "    <tr>\n",
       "      <th>123</th>\n",
       "      <td>2020</td>\n",
       "      <td>Abril</td>\n",
       "      <td>0.0000</td>\n",
       "      <td>0.00000</td>\n",
       "      <td>0.00000</td>\n",
       "    </tr>\n",
       "    <tr>\n",
       "      <th>124</th>\n",
       "      <td>2020</td>\n",
       "      <td>Mayo</td>\n",
       "      <td>0.0000</td>\n",
       "      <td>0.00000</td>\n",
       "      <td>0.00000</td>\n",
       "    </tr>\n",
       "    <tr>\n",
       "      <th>125</th>\n",
       "      <td>2020</td>\n",
       "      <td>Junio</td>\n",
       "      <td>0.0000</td>\n",
       "      <td>0.00000</td>\n",
       "      <td>0.00000</td>\n",
       "    </tr>\n",
       "  </tbody>\n",
       "</table>\n",
       "<p>126 rows × 5 columns</p>\n",
       "</div>"
      ],
      "text/plain": [
       "      año      mes        Total       Brasil        Chile\n",
       "0    2010    Enero  269762.3041  72669.22654  14726.65705\n",
       "1    2010  Febrero  198385.5165  51701.83300  18448.04946\n",
       "2    2010    Marzo  212206.1794  45960.94046  13794.29349\n",
       "3    2010    Abril  216812.5068  61494.83166  19320.48258\n",
       "4    2010     Mayo  201169.6075  59239.78940  25898.00312\n",
       "..    ...      ...          ...          ...          ...\n",
       "121  2020  Febrero   76215.0000  44684.00000  31531.00000\n",
       "122  2020    Marzo  110163.0000  23479.00000  10961.00000\n",
       "123  2020    Abril       0.0000      0.00000      0.00000\n",
       "124  2020     Mayo       0.0000      0.00000      0.00000\n",
       "125  2020    Junio       0.0000      0.00000      0.00000\n",
       "\n",
       "[126 rows x 5 columns]"
      ]
     },
     "execution_count": 40,
     "metadata": {},
     "output_type": "execute_result"
    }
   ],
   "source": []
  },
  {
   "cell_type": "code",
   "execution_count": 42,
   "metadata": {},
   "outputs": [
    {
     "data": {
      "image/png": "[encoded data removed]",
      "text/plain": [
       "<Figure size 432x288 with 1 Axes>"
      ]
     },
     "metadata": {},
     "output_type": "display_data"
    }
   ],
   "source": [
    "sns.set_style(\"darkgrid\")\n",
    "plt.plot(algo['Chile'])\n",
    "plt.show()"
   ]
  },
  {
   "cell_type": "code",
   "execution_count": 24,
   "metadata": {},
   "outputs": [],
   "source": [
    "algo['Total'] = algo['Total'].str.replace(',', '.').astype(float)\n",
    "algo['Brasil'] = algo['Brasil'].str.replace(',', '.').astype(float)\n",
    "algo['Chile'] = algo['Chile'].str.replace(',', '.').astype(float)"
   ]
  },
  {
   "cell_type": "code",
   "execution_count": 20,
   "metadata": {},
   "outputs": [
    {
     "name": "stdout",
     "output_type": "stream",
     "text": [
      "año\n",
      "mes\n",
      "Total\n",
      "Brasil\n",
      "Chile\n"
     ]
    }
   ],
   "source": [
    "for i in list(algo):\n",
    "    algo "
   ]
  },
  {
   "cell_type": "code",
   "execution_count": 21,
   "metadata": {},
   "outputs": [
    {
     "data": {
      "text/plain": [
       "0      2010\n",
       "1      2010\n",
       "2      2010\n",
       "3      2010\n",
       "4      2010\n",
       "       ... \n",
       "121    2020\n",
       "122    2020\n",
       "123    2020\n",
       "124    2020\n",
       "125    2020\n",
       "Name: año, Length: 126, dtype: int64"
      ]
     },
     "execution_count": 21,
     "metadata": {},
     "output_type": "execute_result"
    }
   ],
   "source": [
    "algo['año']"
   ]
  },
  {
   "cell_type": "code",
   "execution_count": null,
   "metadata": {},
   "outputs": [],
   "source": []
  }
 ],
 "metadata": {
  "kernelspec": {
   "display_name": "Python 3",
   "language": "python",
   "name": "python3"
  },
  "language_info": {
   "codemirror_mode": {
    "name": "ipython",
    "version": 3
   },
   "file_extension": ".py",
   "mimetype": "text/x-python",
   "name": "python",
   "nbconvert_exporter": "python",
   "pygments_lexer": "ipython3",
   "version": "3.8.3"
  }
 },
 "nbformat": 4,
 "nbformat_minor": 4
}
